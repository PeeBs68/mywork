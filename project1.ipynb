{
 "cells": [
  {
   "cell_type": "markdown",
   "metadata": {},
   "source": [
    "### Notebook for Project1 for Programming for Data Analysis"
   ]
  },
  {
   "cell_type": "markdown",
   "metadata": {},
   "source": [
    "# Table of Contents\n",
    "\n",
    "1. [Introduction](#Introduction)\n",
    "2. [Analysis](#Analysis)\n",
    "    1. [Graduate Salary](#Graduate_Salary)\n",
    "    2. [Location](#Location)\n",
    "    3. [Grade](#Grade)\n",
    "    4. [Area of Study](#Area_of_Study)\n",
    "3. [Simulation](#Simulation)\n",
    "4. [Results](#Results)\n",
    "5. [Summary](#Summary)\n",
    "6. [References](#References)"
   ]
  },
  {
   "cell_type": "markdown",
   "metadata": {},
   "source": [
    "# Introduction\n",
    "\n",
    "The purpose of this notebook is to:   \n",
    "\n",
    "• Choose a real-world phenomenon that can be measured and for which you could collect at least one-hundred data points across at least four different variables.   \n",
    "\n",
    "• Investigate the types of variables involved, their likely distributions, and their relationships with each other.  \n",
    " \n",
    "• Synthesise/simulate a data set as closely matching their properties as possible.   \n",
    "\n",
    "• Detail your research and implement the simulation in a Jupyter notebook – the data set itself can simply be displayed in an output cell within the notebook.\n"
   ]
  },
  {
   "cell_type": "markdown",
   "metadata": {},
   "source": [
    "# Analysis\n",
    "\n",
    "The phenonom I have chosen is new gratuate salaries in Ireland.   \n",
    "\n",
    "The expected results of this project will be to simulate a data set of graduate salaries based on a number of contributing factors as detailed below. \n",
    "\n",
    "Data released by the CSO $^1$ shows that in 2019 there were over 42,000 new college graduates in Ireland. \n",
    "The numbers of new college graduates in Ireland has been on the increase for a number of years now with Ireland having a higher than the EU average of people with 3rd level education hitting a peak of 61% of 25-34 year olds having a 3rd level education on 2020 $^2$. \n",
    "A report by Trinity News in 2022 $^3$ shows that Ireland was ranked 3rd amongst the 38 OECD countries for 3rd level attainment overall. And that 63% of those in the 18-22 year old category were in 3rd level education compared to the EU average of 59%.\n",
    "\n",
    "Of these, data from HEA $^4$ shows that over three quarters ended up in employment within six-nine months with approx. 20% going on to further study. These ranged across a number of NFQ levels from Level 6 through to Level 10. Of these, Level 8 Hons degrees were by far the most popular with almost 50% according to data from the CSO $^1$.\n",
    "\n",
    "Of those that were in employment, 91% were working in Ireland with the breakdown of:   \n",
    "43% working in Dublin (Dublin region)   \n",
    "15% working in Cork (South West Region)   \n",
    "7% working in Galway (Mid West Region)   \n",
    "35% split across the remaining 5 regions (Mid East, South East, West, Border, Midlands).\n",
    "\n",
    "The data clearly shows that more and more young people are attending and graduating from 3rd level education. An article by Forbes $^5$ indicates that the primary reason for going to college is to earn more money with college graduates out earning those who finished education at secondary level by as much as almost 50% annually.\n",
    "\n",
    "This project will focus only on those who graduated with a level 8 Hons degree and who fall into the category of new/young graduate. "
   ]
  },
  {
   "cell_type": "markdown",
   "metadata": {},
   "source": [
    "According to research by the HEA $^6$ a number of factors can influence a graduate starting salary such as subject/area of study and grade. A study by gradireland $^7$ also suggests that area of study is very important but that location/region also has an impact.\n"
   ]
  },
  {
   "cell_type": "markdown",
   "metadata": {},
   "source": [
    "Based on my research above, I have identified salary as being the most important variable for my project. And through my analysis, it seems that grade achieved, course/area of study and work location are the most important factors affecting the salary. I also decided to include gender as a variable to see highlight the difference in salaries for male and female graduates.\n",
    "\n",
    "Graduate Salary   \n",
    "Area of Study   \n",
    "Award Level   \n",
    "Location   \n",
    "Gender"
   ]
  },
  {
   "cell_type": "markdown",
   "metadata": {},
   "source": [
    "### Graduate_Salary\n",
    "\n",
    "There are numerous articles and reports published every year on graduate salaries.\n",
    "According to research published by the HEA $^8$ starting graduate salaries in Ireland differ significantly and can range from approx. €30,000 to €45,000 with the average coming in around €37,104. More recent research by the Irish Independent $^9$ show the average salary for new graduates is now €38,044. An article by The Irish Times $^{10}$ suggests that the average earnings for all graduates were just over €38,000. \n",
    "Graduate salaries have increased steadily over the last 10 years with research published by the CSO $^{11}$ showing a yearly increase generally in line with inflation on average.\n",
    "\n",
    "Salary is a numeric variable which is defined as quantitative as it represents an amount (in this case the amount is euros). Generally salary is considered a continuous variable.\n",
    "\n",
    "Taking the values from the HEA $^8$ as being the most accurate we can work out the following statistics for the salary variable:   \n",
    "Mean - €35567   \n",
    "Median - €36493   \n",
    "Standard Deviation - 3462   \n",
    "Distribution - Given we only have 10 values, the standard deviation may not mean much but we could assume normal distribution given the information we have."
   ]
  },
  {
   "cell_type": "markdown",
   "metadata": {},
   "source": [
    "### Location\n",
    "\n",
    "For location we are referring to the location of where the graduate is employed post-graduation and not the location of the university they graduated from.\n",
    "\n",
    "According to the HEA $^6$ a number of factors can influence the starting salary of a graduate and note in particular the relationship between salary and location of employment. A study by gradireland $^7$ also claims the importance of location/region as being a factor influencing salary.\n",
    "\n",
    "The HEA $^{8}$ breaks down the country into 8 geographic locations for the purpose of their statistics and suggests that graduates employed in Dublin generally earn the highest average salaries while graduates in the border counties earn the lowest.\n",
    "\n",
    "Based on the country average being €35,567 I have compiled the following table showing the % difference between each region and the average salary using the data from the HEA $^{8}$:\n",
    "\n",
    "| Region | Average Salary | % +/- |\n",
    "| --- | --- | --- |\n",
    "| Dublin | €38297 | +7.68% |\n",
    "| South-West | €37055 | +4.18% |\n",
    "| Mid-West| €36665 | +3.09% |\n",
    "| Mid-East | €36475 | +2.55% |\n",
    "| Midlands | €36413 | +2.38% |\n",
    "| South-East | €36204 | +1.79% |\n",
    "| West | €34890 | -1.90% |\n",
    "| Border | €33018 | -7.17% |\n",
    "\n",
    "\n",
    "In terms of the number of graduates working in each location, data from the HEA $^{12}$ shows that by far the total number of graduates end up working in Dublin after leaving college at almost 40%. Next largest is the South-West region with 16% and propping up the table is the Midlands region with 4%\n",
    "\n",
    "| Country Average | % of total |\n",
    "| --- | --- |\n",
    "| Dublin | 40% |\n",
    "| South-West | 16% |\n",
    "| West | 10% |\n",
    "| Mid-West| 10% |\n",
    "| Mid-East | 8% |\n",
    "| South-East | 7% |\n",
    "| Border | 5% |\n",
    "| Midlands | 4% |   \n",
    "\n",
    "Location is a qualitative, categorical variable as it can take only one of a small and fixed number of possibilities. And as it is not possible to rank them in any meaningful order it is a nominal variable."
   ]
  },
  {
   "cell_type": "markdown",
   "metadata": {},
   "source": [
    "### Grade\n",
    "\n",
    "The grade a student receives is one of the most important factors influencing their starting salary according to the HEA $^6$.\n",
    "Statistics from the CSO $^1$ show the breakdown of grades received. Historically, a H21 grade has been the most popular and the percentage receiving a H21 has been increasing over the last number of years. From 46% 10 years ago to just over 50%. H1s has also seen a percentage increase while H22 and H3s are reducing. \n",
    "\n",
    "The following chart breaks down the % of grades received across all graduates for each award level:\n",
    "\n",
    "Grade | % |\n",
    "| --- | --- |\n",
    "| H1 | 16.55 |\n",
    "| H21 | 50.43 |\n",
    "| H22| 27.21 |\n",
    "| H3 | 5.81 |\n",
    "\n",
    "To see how the grade achieved impacts on a graduates salary we can look at data from gov.ie $^1$ and statistics released by the HEA $^{13}$. From these we can see that the average salary is affected by the grade received leaving college as follows:\n",
    "\n",
    "Grade | % +/- |\n",
    "| --- | --- |\n",
    "| H1 | +3% |\n",
    "| H21 | -9% |\n",
    "| H22| -15% |\n",
    "| H3 | -24% |\n",
    "\n",
    "Grade is a qualitative variable and is considered a categorical variable as it can take only one a small and fixed number of possibilities. And because it is possible to rank them in a meaningful order of H1 to H3 it is an ordinal variable."
   ]
  },
  {
   "cell_type": "markdown",
   "metadata": {},
   "source": [
    "### Area_of_Study \n",
    "\n",
    "Of all the graduates, almost a quarter (24.53%) had studied a course in the Business/Admin/law sector which was by far the highest number. Next came Health & Welfare with just over 18%, followed by Engineering at just under 11%. At the bottom of the scale came Agriculture with 1.5% $^{14}$.\n",
    "\n",
    "| Study Area | % |\n",
    "| --- | --- |\n",
    "| Business | 24.53% |\n",
    "| Health and Welfare| 18.26% |\n",
    "| Engineering| 10.82% |\n",
    "| Arts | 10.64% |\n",
    "| Natural Science | 8.58% |\n",
    "| Education | 7.85% |\n",
    "| Social Science | 6.63% |\n",
    "| ICT | 6.51% |\n",
    "| Services | 3.84% |\n",
    "| Agriculture | 1.51% |\n",
    "| Other | 0.83% |\n",
    "\n",
    "\n",
    "A study released by the Irish Times $^{10}$ highlights the differences across individual areas of study. noting that the highest earners were ICT graduates with salaries ranging up to €45,197, followed by engineering with upo to €42,761 and health and welfare up to €38,728.\n",
    "\n",
    "In contrast, the same report notes arts and humanities graduates earned the least with €29,770, followed by agriculture, forestry, fisheries and veterinary (€32,548) and social sciences, journalism and information (€35,846).\n",
    "\n",
    "However, based on the country average being €35,567 I have compiled the following table using data from the HEA $^8$  and gov.ie $^{13}$ showing the % difference between each area of study and the average salary:\n",
    "\n",
    "| Study Area | % +/- |\n",
    "| --- | --- |\n",
    "| Business | +2.45% |\n",
    "| Health and Welfare| +3.45% |\n",
    "| Engineering| +14.83% |\n",
    "| Arts | -21.41% |\n",
    "| Natural Science | +8.56% |\n",
    "| Education | +14.19% |\n",
    "| Social Science | -4.35% |\n",
    "| ICT | +19.67% |\n",
    "| Services | -4.96% |\n",
    "| Agriculture | -9.45% |   \n",
    "\n",
    "Area of Study/Course is also a qualitative, categorical variable as it can take only one of a small and fixed number of possibilities. And as it is not possible to rank them in any meaningful order it is considered a nominal variable."
   ]
  },
  {
   "cell_type": "markdown",
   "metadata": {},
   "source": [
    "## Gender\n",
    "\n",
    "From the CSO's earnings analysis report $^8$ we can see that female graduates outnumber male graduates in the ration of 55:45. The same report also highlights the gender pay gap with new male graduates earning on average an extra €1500 when compared in like for like situations.\n",
    "\n",
    "Gender is aslo a qualitative, categorical variable taking one of only two possible variables. It is also considered nominal as the values cannot be ordered from high to low."
   ]
  },
  {
   "cell_type": "markdown",
   "metadata": {},
   "source": [
    "# Simulation\n",
    "\n",
    "To create my simulated data set I use the information gathered in the previous section on each variable and create random (or as random as possible) data for each simulated variable.\n",
    "I begin by creating an empty dataframe and add the ```course``` values to a new column. Next, I add a new column called ```location``` and generate a sample of data using the ```random.choice``` function basing the values on the % of the new graduate population are working in each of the geographic locations of the country. I follow a similar process for the ```grade``` variable and also for the ```gender``` variable.   \n",
    "For the salary variable I initially populate the dataframe using ```random.randint``` and use the average min and max numbers found earlier to generate a random sample of salaries. Given that ```location```, ```grade```, and ```gender``` all impact the salary differently I update the ```salary``` variable using weighted percentages from data gathered earlier - from grade, location and gender. Once the weighted vales are applied the dataset is complete."
   ]
  },
  {
   "cell_type": "code",
   "execution_count": 1,
   "metadata": {},
   "outputs": [],
   "source": [
    "# Import modules\n",
    "import pandas as pd\n",
    "import numpy as np\n",
    "import random\n",
    "import matplotlib.pyplot as plt\n",
    "\n",
    "# Create a df for each course/area of study and populate with appropriate random values\n",
    "course_list = ['df_ICT', 'df_Bus', 'df_Eng', 'df_HW', 'df_Arts', 'df_Nats', 'df_Ed', 'df_Socs', 'df_Serv', 'df_Agr' ]\n",
    "\n",
    "# Use of vars() - https://stackoverflow.com/questions/30635145/create-multiple-dataframes-in-loop\n",
    "for course in course_list:\n",
    "    vars()[course] = pd.DataFrame()\n",
    "    vars()[course]['location'] = np.random.choice(['Dublin', 'South-West', 'Mid-West','Mid-East', 'Midlands', 'South-East', 'West', 'Border'], 1000, p=[0.40, 0.16, 0.10, 0.08, 0.04, 0.07, 0.10, 0.05])\n",
    "    vars()[course]['grade'] = np.random.choice(['H1', 'H21', 'H22','H3'], 1000, p=[0.17, 0.50, 0.27, 0.06])\n",
    "    vars()[course]['gender'] = np.random.choice(['F', 'M'], 1000, p=[0.55, 0.45])\n",
    "    vars()[course]['course'] = np.random.choice([course[3:], course], 1000, p=[1.00, 0.00]) "
   ]
  },
  {
   "cell_type": "code",
   "execution_count": 2,
   "metadata": {},
   "outputs": [],
   "source": [
    "# For each df, update the salary column with the appropriate random set of values\n",
    "# Note to self - try and optimise this...\n",
    "\n",
    "rand_sal_ict = [random.randint(39635, 42562) for i in range(1000)]\n",
    "df_ICT['salary'] = rand_sal_ict\n",
    "\n",
    "rand_sal_bus = [random.randint(36225, 36441) for i in range(1000)]\n",
    "df_Bus['salary'] = rand_sal_bus\n",
    "\n",
    "rand_sal_eng = [random.randint(37996, 40845) for i in range(1000)]\n",
    "df_Eng['salary'] = rand_sal_eng\n",
    "\n",
    "rand_sal_hw = [random.randint(36761, 36797) for i in range(1000)]\n",
    "df_HW['salary'] = rand_sal_hw\n",
    "\n",
    "rand_sal_arts = [random.randint(27951, 32078) for i in range(1000)]\n",
    "df_Arts['salary'] = rand_sal_arts\n",
    "\n",
    "rand_sal_nats = [random.randint(36949, 38615) for i in range(1000)]\n",
    "df_Nats['salary'] = rand_sal_nats\n",
    "\n",
    "rand_sal_ed = [random.randint(40324, 40615) for i in range(1000)]\n",
    "df_Ed['salary'] = rand_sal_ed\n",
    "\n",
    "rand_sal_socs = [random.randint(33353, 34021) for i in range(1000)]\n",
    "df_Socs['salary'] = rand_sal_socs\n",
    "\n",
    "rand_sal_serv = [random.randint(32377, 33811) for i in range(1000)]\n",
    "df_Serv['salary'] = rand_sal_serv\n",
    "\n",
    "rand_sal_agr = [random.randint(32203, 36925) for i in range(1000)]\n",
    "df_Agr['salary'] = rand_sal_agr\n",
    "\n",
    "# Create a final df made up of all the individuals\n",
    "final_df = pd.concat([df_Socs, df_Nats, df_Arts, df_Bus, df_ICT, df_Eng, df_Ed, df_Agr, df_HW, df_Serv], ignore_index=True)"
   ]
  },
  {
   "cell_type": "code",
   "execution_count": 3,
   "metadata": {},
   "outputs": [],
   "source": [
    "# Apply rates to adjust salary up/down based on grade, location and gender\n",
    "# Note to self - try and optimise this (maybe create a list/dict for the rates and use a for loop)\n",
    "\n",
    "# Apply Grade Rates to salary\n",
    "h1_rate = 1.03\n",
    "h21_rate = 0.91\n",
    "h22_rate = 0.85\n",
    "h3_rate = 0.76\n",
    "\n",
    "final_df['salary'] = (final_df['salary'] * h1_rate).where(final_df['grade'] == 'H1', final_df['salary'] * 1)\n",
    "final_df['salary'] = (final_df['salary'] * h21_rate).where(final_df['grade'] == 'H21', final_df['salary'] * 1)\n",
    "final_df['salary'] = (final_df['salary'] * h22_rate).where(final_df['grade'] == 'H22', final_df['salary'] * 1)\n",
    "final_df['salary'] = (final_df['salary'] * h3_rate).where(final_df['grade'] == 'H3', final_df['salary'] * 1)\n",
    "\n",
    "\n",
    "# Apply Location rates to salary\n",
    "dublin_rate = 1.0768\n",
    "sw_rate = 1.0418\n",
    "mw_rate = 1.0309\n",
    "me_rate = 1.0255\n",
    "m_rate = 1.0238\n",
    "se_rate = 1.0179\n",
    "w_rate = 0.9810\n",
    "b_rate = 0.9283\n",
    "\n",
    "final_df['salary'] = (final_df['salary'] * dublin_rate).where(final_df['location'] == 'Dublin', final_df['salary'] * 1)\n",
    "final_df['salary'] = (final_df['salary'] * sw_rate).where(final_df['location'] == 'South-West', final_df['salary'] * 1)\n",
    "final_df['salary'] = (final_df['salary'] * mw_rate).where(final_df['location'] == 'Mid-West', final_df['salary'] * 1)\n",
    "final_df['salary'] = (final_df['salary'] * me_rate).where(final_df['location'] == 'Mid-East', final_df['salary'] * 1)\n",
    "final_df['salary'] = (final_df['salary'] * m_rate).where(final_df['location'] == 'Midlands', final_df['salary'] * 1)\n",
    "final_df['salary'] = (final_df['salary'] * se_rate).where(final_df['location'] == 'South-East', final_df['salary'] * 1)\n",
    "final_df['salary'] = (final_df['salary'] * w_rate).where(final_df['location'] == 'West', final_df['salary'] * 1)\n",
    "final_df['salary'] = (final_df['salary'] * b_rate).where(final_df['location'] == 'Border', final_df['salary'] * 1)\n",
    "\n",
    "\n",
    "# Apply Gender rates to salary\n",
    "final_df['salary'] = (final_df['salary'] * 1.0422).where(final_df['gender'] == 'M', final_df['salary'] * 1)\n",
    "\n",
    "# Round salary to 2 places of decimal\n",
    "final_df = final_df.round({'salary': 2})"
   ]
  },
  {
   "cell_type": "markdown",
   "metadata": {},
   "source": [
    "# Results\n",
    "\n",
    "In this section we will look an an overview of our newly created data set, primarily using plots to fisualise the resulting data. Our datafrane looks as follows:"
   ]
  },
  {
   "cell_type": "code",
   "execution_count": 4,
   "metadata": {},
   "outputs": [
    {
     "data": {
      "text/html": [
       "<div>\n",
       "<style scoped>\n",
       "    .dataframe tbody tr th:only-of-type {\n",
       "        vertical-align: middle;\n",
       "    }\n",
       "\n",
       "    .dataframe tbody tr th {\n",
       "        vertical-align: top;\n",
       "    }\n",
       "\n",
       "    .dataframe thead th {\n",
       "        text-align: right;\n",
       "    }\n",
       "</style>\n",
       "<table border=\"1\" class=\"dataframe\">\n",
       "  <thead>\n",
       "    <tr style=\"text-align: right;\">\n",
       "      <th></th>\n",
       "      <th>location</th>\n",
       "      <th>grade</th>\n",
       "      <th>gender</th>\n",
       "      <th>course</th>\n",
       "      <th>salary</th>\n",
       "    </tr>\n",
       "  </thead>\n",
       "  <tbody>\n",
       "    <tr>\n",
       "      <th>0</th>\n",
       "      <td>Dublin</td>\n",
       "      <td>H22</td>\n",
       "      <td>M</td>\n",
       "      <td>Socs</td>\n",
       "      <td>32313.53</td>\n",
       "    </tr>\n",
       "    <tr>\n",
       "      <th>1</th>\n",
       "      <td>Border</td>\n",
       "      <td>H21</td>\n",
       "      <td>M</td>\n",
       "      <td>Socs</td>\n",
       "      <td>29379.00</td>\n",
       "    </tr>\n",
       "    <tr>\n",
       "      <th>2</th>\n",
       "      <td>South-West</td>\n",
       "      <td>H1</td>\n",
       "      <td>F</td>\n",
       "      <td>Socs</td>\n",
       "      <td>36108.27</td>\n",
       "    </tr>\n",
       "    <tr>\n",
       "      <th>3</th>\n",
       "      <td>Dublin</td>\n",
       "      <td>H21</td>\n",
       "      <td>M</td>\n",
       "      <td>Socs</td>\n",
       "      <td>34338.15</td>\n",
       "    </tr>\n",
       "    <tr>\n",
       "      <th>4</th>\n",
       "      <td>West</td>\n",
       "      <td>H21</td>\n",
       "      <td>M</td>\n",
       "      <td>Socs</td>\n",
       "      <td>31574.39</td>\n",
       "    </tr>\n",
       "    <tr>\n",
       "      <th>...</th>\n",
       "      <td>...</td>\n",
       "      <td>...</td>\n",
       "      <td>...</td>\n",
       "      <td>...</td>\n",
       "      <td>...</td>\n",
       "    </tr>\n",
       "    <tr>\n",
       "      <th>9995</th>\n",
       "      <td>Dublin</td>\n",
       "      <td>H21</td>\n",
       "      <td>F</td>\n",
       "      <td>Serv</td>\n",
       "      <td>32462.71</td>\n",
       "    </tr>\n",
       "    <tr>\n",
       "      <th>9996</th>\n",
       "      <td>West</td>\n",
       "      <td>H22</td>\n",
       "      <td>M</td>\n",
       "      <td>Serv</td>\n",
       "      <td>28946.80</td>\n",
       "    </tr>\n",
       "    <tr>\n",
       "      <th>9997</th>\n",
       "      <td>Mid-West</td>\n",
       "      <td>H21</td>\n",
       "      <td>M</td>\n",
       "      <td>Serv</td>\n",
       "      <td>32976.12</td>\n",
       "    </tr>\n",
       "    <tr>\n",
       "      <th>9998</th>\n",
       "      <td>South-West</td>\n",
       "      <td>H3</td>\n",
       "      <td>F</td>\n",
       "      <td>Serv</td>\n",
       "      <td>25931.99</td>\n",
       "    </tr>\n",
       "    <tr>\n",
       "      <th>9999</th>\n",
       "      <td>West</td>\n",
       "      <td>H21</td>\n",
       "      <td>F</td>\n",
       "      <td>Serv</td>\n",
       "      <td>29299.63</td>\n",
       "    </tr>\n",
       "  </tbody>\n",
       "</table>\n",
       "<p>10000 rows × 5 columns</p>\n",
       "</div>"
      ],
      "text/plain": [
       "        location grade gender course    salary\n",
       "0         Dublin   H22      M   Socs  32313.53\n",
       "1         Border   H21      M   Socs  29379.00\n",
       "2     South-West    H1      F   Socs  36108.27\n",
       "3         Dublin   H21      M   Socs  34338.15\n",
       "4           West   H21      M   Socs  31574.39\n",
       "...          ...   ...    ...    ...       ...\n",
       "9995      Dublin   H21      F   Serv  32462.71\n",
       "9996        West   H22      M   Serv  28946.80\n",
       "9997    Mid-West   H21      M   Serv  32976.12\n",
       "9998  South-West    H3      F   Serv  25931.99\n",
       "9999        West   H21      F   Serv  29299.63\n",
       "\n",
       "[10000 rows x 5 columns]"
      ]
     },
     "execution_count": 4,
     "metadata": {},
     "output_type": "execute_result"
    }
   ],
   "source": [
    "final_df"
   ]
  },
  {
   "cell_type": "markdown",
   "metadata": {},
   "source": [
    "Firstly we will plot a histogram of all the salary values. We can see that the data is still normally distributed "
   ]
  },
  {
   "cell_type": "code",
   "execution_count": 5,
   "metadata": {},
   "outputs": [
    {
     "data": {
      "image/png": "[encoded data removed]",
      "text/plain": [
       "<Figure size 640x480 with 1 Axes>"
      ]
     },
     "metadata": {},
     "output_type": "display_data"
    }
   ],
   "source": [
    "# Plot a histogram of average salary\n",
    "\n",
    "salary_l = []\n",
    "for x in final_df['salary']:\n",
    "    salary_l.append(x)\n",
    "plt.title(\"Salary Distribution\")\n",
    "plt.xlabel(\"Salary\")\n",
    "plt.ylabel(\"Frequency\")\n",
    "plt.hist(salary_l, bins=20);"
   ]
  },
  {
   "cell_type": "code",
   "execution_count": 6,
   "metadata": {},
   "outputs": [
    {
     "name": "stdout",
     "output_type": "stream",
     "text": [
      "Mean salary = 34833.376721\n",
      "Median salary = 34749.31\n",
      "Salary standard deviation = 4472.690728539903\n"
     ]
    }
   ],
   "source": [
    "# Stats on the overall salary data in the data set\n",
    "\n",
    "print(f'Mean salary = {final_df.salary.mean()}')\n",
    "print(f'Median salary = {final_df.salary.median()}')\n",
    "print(f'Salary standard deviation = {final_df.salary.std()}')"
   ]
  },
  {
   "cell_type": "markdown",
   "metadata": {},
   "source": [
    "Given that there are a number of variables affecting the salary in our data set we will now plot the average salary by grade, location of employment, area of study and gender."
   ]
  },
  {
   "cell_type": "markdown",
   "metadata": {},
   "source": [
    "### Salary by Grade"
   ]
  },
  {
   "cell_type": "code",
   "execution_count": 7,
   "metadata": {},
   "outputs": [
    {
     "data": {
      "image/png": "[encoded data removed]",
      "text/plain": [
       "<Figure size 640x480 with 1 Axes>"
      ]
     },
     "metadata": {},
     "output_type": "display_data"
    }
   ],
   "source": [
    "# Plot of Average Salary by Grade\n",
    "\n",
    "final_df_by_means = final_df.groupby('grade')['salary'].mean()\n",
    "final_df_by_means.columns = ['Grade', 'Salary']\n",
    "final_df_by_means.plot(kind='bar');\n",
    "plt.title(\"Average salary by Grade Achieved\")\n",
    "plt.xlabel(\"Grade\")\n",
    "plt.ylabel(\"Salary\");"
   ]
  },
  {
   "cell_type": "markdown",
   "metadata": {},
   "source": [
    "We can clearly see that those who graduate with a H1 grade receive the highest salary, and as the grade lowers so does the salary, on average."
   ]
  },
  {
   "cell_type": "markdown",
   "metadata": {},
   "source": [
    "### Salary by Course/Area of Study"
   ]
  },
  {
   "cell_type": "code",
   "execution_count": 21,
   "metadata": {},
   "outputs": [
    {
     "data": {
      "image/png": "[encoded data removed]",
      "text/plain": [
       "<Figure size 640x480 with 1 Axes>"
      ]
     },
     "metadata": {},
     "output_type": "display_data"
    }
   ],
   "source": [
    "# Plot of Average Salary by Course/Area of Study\n",
    "\n",
    "final_df_by_means = final_df.groupby('course')['salary'].mean()\n",
    "final_df_by_means.columns = ['Course', 'Salary']\n",
    "final_df_by_means.plot(kind='bar');\n",
    "plt.title(\"Average salary by Course Studied\")\n",
    "plt.xlabel(\"Course\")\n",
    "plt.ylabel(\"Salary\");"
   ]
  },
  {
   "cell_type": "markdown",
   "metadata": {},
   "source": [
    "As can be seen from the graph, ICT, Engineering and Education graduates receive the highest average salary. While Arts graduates receive the lowest."
   ]
  },
  {
   "cell_type": "markdown",
   "metadata": {},
   "source": [
    "### Salary by Location of Employment"
   ]
  },
  {
   "cell_type": "code",
   "execution_count": null,
   "metadata": {},
   "outputs": [],
   "source": [
    "# Plot of Average Salary by Location of Employment\n",
    "\n",
    "final_df_by_means = final_df.groupby('location')['salary'].mean()\n",
    "final_df_by_means.columns = ['Location', 'Salary']\n",
    "final_df_by_means.plot(kind='bar');\n",
    "plt.title(\"Average salary by Employment Location\")\n",
    "plt.xlabel(\"Location\")\n",
    "plt.ylabel(\"Salary\");"
   ]
  },
  {
   "cell_type": "markdown",
   "metadata": {},
   "source": [
    "Graduates working in Dublin clearly receive on average a higher salary with the South-West being next highest. Graduates working in the Border counties receive the lowest average salary."
   ]
  },
  {
   "cell_type": "markdown",
   "metadata": {},
   "source": [
    "### Salary by Gender"
   ]
  },
  {
   "cell_type": "code",
   "execution_count": null,
   "metadata": {},
   "outputs": [],
   "source": [
    "# Plot of Average Salary by Gender\n",
    "\n",
    "final_df_by_means = final_df.groupby('gender')['salary'].mean()\n",
    "final_df_by_means.columns = ['Gender', 'Salary']\n",
    "final_df_by_means.plot(kind='bar');\n",
    "plt.title(\"Average salary by Gender\")\n",
    "plt.xlabel(\"Gender\")\n",
    "plt.ylabel(\"Salary\");"
   ]
  },
  {
   "cell_type": "markdown",
   "metadata": {},
   "source": [
    "Althogh female graduates outnumber male graduates, male graduates tend to receive a higher salary on average."
   ]
  },
  {
   "cell_type": "markdown",
   "metadata": {},
   "source": [
    "### Extracting individual data"
   ]
  },
  {
   "cell_type": "code",
   "execution_count": null,
   "metadata": {},
   "outputs": [],
   "source": [
    "# Generate sample salary for the following criteria\n",
    "\n",
    "s_location = 'Border'\n",
    "s_grade = 'H1'\n",
    "s_course = 'Agr'\n",
    "s_gender = 'F'\n",
    "\n",
    "sample = final_df[final_df['location'].eq(s_location) & final_df['grade'].eq(s_grade) & final_df['course'].eq(s_course) & final_df['gender'].eq(s_gender)]\n",
    "sample"
   ]
  },
  {
   "cell_type": "markdown",
   "metadata": {},
   "source": [
    "We could tailor the above code to extract sample data for any mix of criteria. "
   ]
  },
  {
   "cell_type": "markdown",
   "metadata": {},
   "source": [
    "To get an overall view of random data in our data set we can use the ```sample()``` as follows:"
   ]
  },
  {
   "cell_type": "code",
   "execution_count": null,
   "metadata": {},
   "outputs": [],
   "source": [
    "# Use of sample() from https://stackoverflow.com/questions/29576430/shuffle-dataframe-rows\n",
    "\n",
    "final_df.sample(frac=1)"
   ]
  },
  {
   "cell_type": "markdown",
   "metadata": {},
   "source": [
    "# Summary\n",
    "\n",
    "We can see from the results section that results from our simulated data set are in line with our original data from the findings of our research. The data is still normally distributed with the mean and stdev values in line with what was see earlier.   \n",
    "We also see in our plots that the spread of values is consistent with our initial data, once we apply the appropriate weighting for each variable."
   ]
  },
  {
   "cell_type": "markdown",
   "metadata": {},
   "source": [
    "# References\n",
    "\n",
    "$^1$ https://www.cso.ie/en/releasesandpublications/ep/p-heo/highereducationoutcomes-graduationyears2010-2019/backgroundstatistics/   \n",
    "$^2$ https://www.cso.ie/en/csolatestnews/pressreleases/2021pressreleases/pressstatementeducationalattainmentthematicreport2021/   \n",
    "$^3$ https://trinitynews.ie/2022/10/ireland-ranked-third-among-oecd-countries-for-rate-of-third-level-education/   \n",
    "$^4$ https://hea.ie/statistics/graduate-outcomes-data-and-reports/graduate-outcomes-2021/   \n",
    "$^5$ https://www.forbes.com/advisor/student-loans/why-should-you-go-to-college/   \n",
    "$^6$ https://hea.ie/assets/uploads/2021/09/Higher-Education-Institutions-Earnings-Report-September-2021.pdf   \n",
    "$^7$ https://gradireland.com/careers-advice/job-offers-and-working-life/salaries-and-benefits-new-graduates   \n",
    "$^8$ https://hea.ie/statistics/graduate-outcomes-data-and-reports/graduate-outcomes-2020/earnings-analysis/   \n",
    "$^9$ https://www.independent.ie/irish-news/surge-in-graduate-employment-as-four-in-five-walk-into-a-job-with-average-salary-of-38044/42166132.html   \n",
    "$^{10}$ https://www.irishtimes.com/ireland/education/2022/11/23/college-graduates-gain-employment-in-record-numbers/   \n",
    "$^{11}$ https://www.cso.ie/en/releasesandpublications/ep/p-heo/highereducationoutcomes-graduationyears2010-2019/whatdograduatesearn/         \n",
    "$^{12}$ https://hea.ie/statistics/graduate-outcomes-data-and-reports/graduate-outcomes-2020/undergraduate-honours-degree-graduates/     \n",
    "$^{13}$ https://data.gov.ie/dataset/heo13-graduate-earnings   \n",
    "$^{14}$ https://hea.ie/statistics/data-for-download-and-visualisations/key-facts-figures/   \n"
   ]
  }
 ],
 "metadata": {
  "kernelspec": {
   "display_name": "base",
   "language": "python",
   "name": "python3"
  },
  "language_info": {
   "codemirror_mode": {
    "name": "ipython",
    "version": 3
   },
   "file_extension": ".py",
   "mimetype": "text/x-python",
   "name": "python",
   "nbconvert_exporter": "python",
   "pygments_lexer": "ipython3",
   "version": "3.11.4"
  }
 },
 "nbformat": 4,
 "nbformat_minor": 2
}
