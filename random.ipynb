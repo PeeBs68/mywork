{
 "cells": [
  {
   "cell_type": "code",
   "execution_count": null,
   "metadata": {},
   "outputs": [],
   "source": []
  },
  {
   "cell_type": "code",
   "execution_count": 35,
   "metadata": {},
   "outputs": [
    {
     "name": "stdout",
     "output_type": "stream",
     "text": [
      "Empty DataFrame\n",
      "Columns: [Region, Other]\n",
      "Index: []\n"
     ]
    }
   ],
   "source": [
    "# Create dataframe\n",
    "# \n",
    "import numpy as np\n",
    "import pandas as pd\n",
    "\n",
    "#COLUMN_NAMES=['A','B','C','D','E','F','G']\n",
    "df = pd.DataFrame()\n",
    "df.insert(0, \"Region\", \"\")\n",
    "df.insert(1, \"Other\", \"\")\n",
    "print(df)"
   ]
  },
  {
   "cell_type": "code",
   "execution_count": 18,
   "metadata": {},
   "outputs": [
    {
     "name": "stdout",
     "output_type": "stream",
     "text": [
      "['Dublin' 'Dublin' 'Galway' 'Dublin' 'Dublin' 'Cork' 'Dublin' 'Cork'\n",
      " 'Dublin' 'Dublin']\n"
     ]
    }
   ],
   "source": [
    "import numpy as np\n",
    "\n",
    "# Create dataframe\n",
    "# \n",
    "import numpy as np\n",
    "import pandas as pd\n",
    "\n",
    "#COLUMN_NAMES=['A','B','C','D','E','F','G']\n",
    "df = pd.DataFrame()\n",
    "df.insert(0, \"Region\", \"\")\n",
    "df.insert(1, \"Other\", \"\")\n",
    "print(df)\n",
    "\n",
    "x = np.random.choice(['Dublin', 'Cork', 'Galway'], 10, p=[0.70, 0.20, 0.10])\n",
    "\n",
    "print(x)\n"
   ]
  }
 ],
 "metadata": {
  "kernelspec": {
   "display_name": "base",
   "language": "python",
   "name": "python3"
  },
  "language_info": {
   "codemirror_mode": {
    "name": "ipython",
    "version": 3
   },
   "file_extension": ".py",
   "mimetype": "text/x-python",
   "name": "python",
   "nbconvert_exporter": "python",
   "pygments_lexer": "ipython3",
   "version": "3.11.4"
  }
 },
 "nbformat": 4,
 "nbformat_minor": 2
}
