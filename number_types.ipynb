{
 "cells": [
  {
   "cell_type": "markdown",
   "metadata": {},
   "source": [
    "**Complex Numbers**\n",
    "\n",
    "$\\mathbb{C} = \\{a +bi | a, b \\in \\mathbb{R}, i^2 = -1\\}$"
   ]
  },
  {
   "cell_type": "markdown",
   "metadata": {},
   "source": [
    "**Reals**\n",
    "\n",
    "$ \\mathbb{R}$\n",
    "\n",
    "\n",
    "Real Numbers typically used for measuring things\n",
    "\n",
    "In Wikipedia or wherever click on an image, then more details then the size you want then grab the URL and use as below...\n",
    "\n",
    "Images in Markdown   \n",
    "! start with !   \n",
    "[] are for alternative text which is displayed if the image cannot be found   \n",
    "() for the actual URL of the image   \n",
    "\n",
    "![Real Number Lines](https://upload.wikimedia.org/wikipedia/commons/thumb/d/d7/Real_number_line.svg/689px-Real_number_line.svg.png)"
   ]
  },
  {
   "cell_type": "markdown",
   "metadata": {},
   "source": [
    "**Rationals** \n",
    "\n",
    "Pretty much fractions\n",
    "\n",
    "$\\mathbb{Q} = \\{ \\frac{m}{n} | m,n \\in \\mathbb{Z}$   \n",
    "\n",
    "OR\n",
    "\n",
    "$\\mathbb{Q} = \\{ \\frac{m}{n} | m,n \\in \\mathbb{N}_0 , n \\neq 0$  "
   ]
  },
  {
   "cell_type": "markdown",
   "metadata": {},
   "source": [
    "**Integers**\n",
    "\n",
    "Good for counting\n",
    "\n",
    "$ \\mathbb{Z} = \\{\\ldots-3, -2, -1, 0, 1, 2, 3\\ldots\\}$"
   ]
  },
  {
   "cell_type": "markdown",
   "metadata": {},
   "source": [
    "**Natural Numbers**\n",
    "\n",
    "Positive integers - can include zeros\n",
    "\n",
    "$\\mathbb{N} = \\{1, 2, 3 \\ldots\\}$\n",
    "\n",
    "$\\mathbb{N}_0 = \\{0, 1, 2, 3 \\ldots\\}$\n"
   ]
  },
  {
   "cell_type": "markdown",
   "metadata": {},
   "source": [
    "*Example to indicate why Reals are not good for counting*\n",
    "\n",
    "$x = 0.999\\ldots$\n",
    "\n",
    "$\\Rightarrow 10x = 9.99\\dots$\n",
    "\n",
    "$\\Rightarrow 10x - x = 9.999\\ldots - 0.999\\dots$\n",
    "\n",
    "$\\Rightarrow 9x = 9.000\\ldots$\n",
    "\n",
    "$\\Rightarrow x = 1\\ldots$"
   ]
  },
  {
   "cell_type": "markdown",
   "metadata": {},
   "source": []
  },
  {
   "cell_type": "code",
   "execution_count": null,
   "metadata": {},
   "outputs": [],
   "source": []
  }
 ],
 "metadata": {
  "language_info": {
   "name": "python"
  }
 },
 "nbformat": 4,
 "nbformat_minor": 2
}
