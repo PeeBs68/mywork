{
 "cells": [
  {
   "cell_type": "markdown",
   "metadata": {},
   "source": [
    "# Fundamentals of Data Analysis Tasks\n",
    "\n",
    "Phelim Barry\n",
    "\n",
    "***"
   ]
  },
  {
   "cell_type": "markdown",
   "metadata": {},
   "source": [
    "***Task1***\n",
    "\n",
    ">The Collatz conjecture is a famous unsolved problem in mathematics. The problem is to prove that if you start with any positive integer $x$ and repeatedly apply the function $f(x)$ below, you always get stuck in the repeating sequence 1, 4, 2, 1, 4, 2, . . .   \n",
    "This task is to verify, using Python, that the conjecture is true for the first 10,000 positive integers.\n",
    "\n",
    "If $x$ is even, $f(x) = x ÷ 2$   \n",
    "If $x$ is odd, $f(x) = 3x + 1$"
   ]
  },
  {
   "cell_type": "markdown",
   "metadata": {},
   "source": [
    "Define a function for $f(x)$"
   ]
  },
  {
   "cell_type": "code",
   "execution_count": 23,
   "metadata": {},
   "outputs": [],
   "source": [
    "def f(x):\n",
    "    if x % 2 == 0:          #x is even\n",
    "        return x // 2\n",
    "    else:                   #x is odd\n",
    "        return (3 * x) + 1"
   ]
  },
  {
   "cell_type": "markdown",
   "metadata": {},
   "source": [
    "Define a function to check the $x$ value. If after applying the formula to the number, we arrive at a value equal to 1 then we have proved for that number and move on to the next number. If we reach the number 10001 then we have proved for all numbers between 1 and 10000"
   ]
  },
  {
   "cell_type": "code",
   "execution_count": 24,
   "metadata": {},
   "outputs": [],
   "source": [
    "def collatz(x):\n",
    "    while x != 1:\n",
    "        #print (x, end=\", \")\n",
    "        x = f(x)            #call the f(x) function\n",
    "    #print (x)"
   ]
  },
  {
   "cell_type": "markdown",
   "metadata": {},
   "source": [
    "Run the function and print out the values of $x$ before and during execution"
   ]
  },
  {
   "cell_type": "code",
   "execution_count": 25,
   "metadata": {},
   "outputs": [
    {
     "name": "stdout",
     "output_type": "stream",
     "text": [
      "The code loop has reached 10000 so exits\n"
     ]
    }
   ],
   "source": [
    "# Define start and end range values\n",
    "start_range = 1\n",
    "stop_range = 10001\n",
    "for num in range (start_range, stop_range):\n",
    "    #print (num, end=\", \")\n",
    "    #print (f'Original Number = {num}')\n",
    "    collatz(num)\n",
    "print (f'The code loop has reached {num} so exits')\n",
    "# If the loop gets to 10001 then we have proved the case"
   ]
  },
  {
   "cell_type": "code",
   "execution_count": 26,
   "metadata": {},
   "outputs": [
    {
     "name": "stdout",
     "output_type": "stream",
     "text": [
      "We have cycled through the values from 1 to 10000 and each time ended with a value of 1 \n",
      "indicating the conjecture is true for the first 10000 positive integers\n"
     ]
    }
   ],
   "source": [
    "print (f'We have cycled through the values from {start_range} to {stop_range-1} and each time ended with a value of 1 \\nindicating the conjecture is true for the first {stop_range-1} positive integers')"
   ]
  },
  {
   "cell_type": "markdown",
   "metadata": {},
   "source": [
    "***Task2***\n",
    "\n",
    ">Add Task2 description..."
   ]
  },
  {
   "cell_type": "markdown",
   "metadata": {},
   "source": [
    "***Task3***\n",
    "\n",
    ">Add Task3 description..."
   ]
  },
  {
   "cell_type": "markdown",
   "metadata": {},
   "source": [
    "***\n",
    "\n",
    "## End"
   ]
  }
 ],
 "metadata": {
  "kernelspec": {
   "display_name": "base",
   "language": "python",
   "name": "python3"
  },
  "language_info": {
   "codemirror_mode": {
    "name": "ipython",
    "version": 3
   },
   "file_extension": ".py",
   "mimetype": "text/x-python",
   "name": "python",
   "nbconvert_exporter": "python",
   "pygments_lexer": "ipython3",
   "version": "3.11.4"
  },
  "orig_nbformat": 4
 },
 "nbformat": 4,
 "nbformat_minor": 2
}
