{
 "cells": [
  {
   "cell_type": "markdown",
   "metadata": {},
   "source": [
    "# Plotting Bar Charts"
   ]
  },
  {
   "cell_type": "code",
   "execution_count": 59,
   "metadata": {},
   "outputs": [
    {
     "data": {
      "text/plain": [
       "array([ 4,  7,  6,  8,  2,  9,  7,  5,  9,  8,  3,  9,  2,  2, 10,  6,  5,\n",
       "        7,  5,  2,  4,  9, 10,  4,  4,  2,  6,  2,  2,  5,  7,  9,  4,  9,\n",
       "        6,  7,  2,  1,  3,  3,  2,  5,  6,  8,  6,  5,  6,  1,  3,  8,  8,\n",
       "        2,  8,  8,  6, 10,  3,  1, 10,  4,  4,  7,  4,  6,  2,  9,  8,  5,\n",
       "        2,  9,  6, 10, 10,  3,  3,  8,  1,  6,  7,  8,  9,  3,  2,  5,  2,\n",
       "        1,  3,  3,  4,  8,  1,  6,  8,  4,  6,  5,  1,  5,  7, 10,  8,  2,\n",
       "        4,  5,  4, 10, 10,  7,  6,  5,  9, 10, 10,  2,  4,  4,  4,  5, 10,\n",
       "        5,  3,  2,  7,  8,  5,  4,  9,  6,  9,  5,  5,  7,  1,  5,  7,  9,\n",
       "        1,  2,  9,  3,  2,  2,  8,  3,  6,  5, 10,  1,  9,  4,  3, 10,  8,\n",
       "        8,  8,  9,  3,  6,  6,  2,  8, 10,  1,  1,  3,  5,  9, 10,  6,  5,\n",
       "        2,  1, 10,  9,  6,  9,  9,  8,  9,  8,  8, 10,  1,  9,  9,  5,  4,\n",
       "        4,  3,  5,  9,  8, 10,  7,  4,  9,  9,  2, 10,  4,  2,  3,  9,  4,\n",
       "        4,  7, 10,  9,  7, 10,  8, 10,  4,  3,  6,  4,  5,  4,  6,  5,  3,\n",
       "        3,  7,  4,  6,  4,  3,  5,  1,  6,  5,  8,  5,  5,  1,  9,  3,  1,\n",
       "        9,  3,  8, 10,  7,  2,  8,  9,  2,  8,  5,  8,  7,  6,  2,  7, 10,\n",
       "        1,  8,  4,  6,  4,  7,  4,  4, 10,  8,  7,  5,  5,  5,  8,  6,  4,\n",
       "        7,  3,  3,  4,  4, 10,  5,  3,  1,  7,  4,  4,  3,  3,  2,  6,  1,\n",
       "       10, 10,  7,  3,  6,  7,  2,  2,  8,  3,  6,  1, 10,  4,  5,  9,  6,\n",
       "        1,  2,  4,  8,  1,  8,  5,  6,  9, 10, 10,  5, 10,  1,  1,  4,  8,\n",
       "        1,  4,  7,  8,  3,  9,  1,  9,  9,  5,  8,  9,  4,  1,  7,  6,  7,\n",
       "       10,  2,  2,  2,  3,  7,  3,  2,  9,  5,  6,  3,  7,  9,  8,  2,  4,\n",
       "        4,  9,  9,  2,  7,  5, 10,  3,  9,  4,  3,  7,  4,  4,  4,  3,  6,\n",
       "        6,  8,  5,  1,  8,  1,  6,  4,  5, 10,  2,  8,  1,  8,  7,  6,  2,\n",
       "        1,  4,  1,  5,  1,  8,  6,  4,  6,  2,  2,  7,  8,  1,  2,  3,  7,\n",
       "        2, 10,  1,  2,  2,  6, 10,  1,  6,  2,  3,  6,  8,  1,  3,  3,  2,\n",
       "       10,  7,  8,  1,  4,  1,  2,  1, 10,  3, 10,  6,  7,  8,  7,  6,  3,\n",
       "        3,  9,  2,  9,  3, 10,  3,  7,  9,  7,  5,  5,  3,  1,  5,  6,  7,\n",
       "        1,  4,  9,  2,  2,  8,  7,  1,  2,  8,  4,  8,  6,  3,  5,  4,  3,\n",
       "        8,  2,  8,  4,  4, 10,  8,  1,  5,  5,  5,  9,  2,  9,  8,  4,  6,\n",
       "        9,  2,  4,  6,  3,  3,  4,  4,  7, 10,  6,  4,  3,  8,  9,  4,  6,\n",
       "        5, 10,  2,  9,  6,  4,  3,  3,  1,  8,  7,  2,  4,  2,  2,  8,  9,\n",
       "        6,  5,  7,  2,  3,  6,  1, 10,  9,  9,  4,  1,  5,  9, 10,  7,  2,\n",
       "        8,  5,  5,  7,  6,  3,  4,  5,  8,  3,  3,  5,  9,  9,  2,  3, 10,\n",
       "       10,  3,  7,  5, 10,  8,  3,  9,  7,  6,  8,  8,  4, 10,  1,  8,  1,\n",
       "        1,  1,  2,  9,  3,  1,  1,  7,  9, 10,  6, 10,  2,  9,  4,  3,  9,\n",
       "        6,  5,  2,  5,  7,  8,  8,  3,  2,  7,  1,  5,  5,  6,  6, 10,  4,\n",
       "        1, 10, 10,  7,  5,  4,  1,  7,  2,  3,  9,  7,  5,  9,  7,  9,  9,\n",
       "        5,  1,  7,  3,  8,  4,  8,  9,  9,  1,  2, 10, 10,  6,  8,  2,  5,\n",
       "        6,  6,  4,  6,  4,  3,  7,  3,  9,  9,  5,  2,  9,  3,  3,  2,  7,\n",
       "       10,  1,  7,  4,  6,  1,  1,  3,  5,  5,  1,  7,  8,  1,  9,  6,  4,\n",
       "        7,  1,  8,  5,  3,  3,  3,  5,  5, 10,  4,  3,  1,  1,  8, 10,  4,\n",
       "        9,  5,  2,  2,  7,  8,  8,  6,  7,  5, 10,  2,  1,  7,  1,  8,  8,\n",
       "        2,  6, 10,  5,  6, 10,  8,  1,  6,  6,  5,  6,  2,  3,  8,  8,  2,\n",
       "        5,  1,  1,  5,  3,  2,  1,  3, 10,  8,  3,  1,  5,  7, 10, 10,  4,\n",
       "        4, 10,  4,  3,  6,  9,  1,  1,  1,  2,  4,  1,  2,  1,  3,  4,  6,\n",
       "        6,  8,  6, 10,  8,  4,  4,  8,  7,  8,  2, 10, 10,  3,  5,  1,  8,\n",
       "        3, 10,  2,  7,  3,  7,  1, 10,  6, 10,  7,  5,  7,  7,  4,  6,  4,\n",
       "        3,  6,  7,  2,  6,  4,  8,  4,  7,  8, 10,  4,  5,  3,  2,  4,  3,\n",
       "        4, 10,  3,  7,  2,  9, 10,  4,  1, 10,  5,  1, 10,  7,  1,  2,  8,\n",
       "       10,  2,  1,  3,  6,  9,  1,  1,  4,  8,  1,  1, 10,  4,  1,  3,  7,\n",
       "        2,  7,  7,  5,  3,  4,  1,  7,  9,  7,  7,  1,  5,  1,  3,  1, 10,\n",
       "        3, 10,  9, 10,  9,  5,  9,  4,  8,  5,  3,  7, 10,  1,  8,  1,  7,\n",
       "        4,  5,  6,  7,  8,  7,  5,  7, 10,  5,  3,  8,  5,  6,  7,  5,  7,\n",
       "        9,  5,  1,  8,  3,  8,  1,  7,  3,  1,  3,  7,  2,  2,  5, 10,  2,\n",
       "        6,  6,  4, 10, 10,  9,  8,  8,  1,  2,  1,  9, 10,  6,  4,  1,  5,\n",
       "        5,  6,  7, 10,  9, 10,  8,  3,  4,  5,  3,  6,  5,  6,  6,  2,  6,\n",
       "        4,  5,  4,  7,  6,  6, 10,  2,  3,  3,  7,  3,  7,  3,  3,  6,  4,\n",
       "        7,  9,  4,  6,  3,  7,  3,  2,  4,  7,  9,  8,  7,  7,  7,  1,  9,\n",
       "        5,  9, 10,  1,  6, 10, 10,  2,  3,  8,  2,  4,  6,  3])"
      ]
     },
     "execution_count": 59,
     "metadata": {},
     "output_type": "execute_result"
    }
   ],
   "source": [
    "# generate a list of random numbers\n",
    "import numpy as np\n",
    "\n",
    "rng.random(10)\n",
    "\n",
    "rng = np.random.default_rng()\n",
    "\n",
    "# rand_ints = rng.integers(low=1, high=11, size=1000)\n",
    "low = 1\n",
    "high = 10\n",
    "size = 1000\n",
    "rand_ints = rng.integers(low=low, high=high+1, size=size)\n",
    "\n",
    "\n",
    "rand_ints"
   ]
  },
  {
   "cell_type": "code",
   "execution_count": 60,
   "metadata": {},
   "outputs": [
    {
     "data": {
      "text/plain": [
       "(array([ 1,  2,  3,  4,  5,  6,  7,  8,  9, 10]),\n",
       " array([104,  97, 110, 107, 100,  97, 101, 100,  88,  96]))"
      ]
     },
     "execution_count": 60,
     "metadata": {},
     "output_type": "execute_result"
    }
   ],
   "source": [
    "# Range of x values\n",
    "\n",
    "#x = np.arange(low, high+1, dtype = int)\n",
    "\n",
    "#x\n",
    "\n",
    "# the number of unique elements in rand_int\n",
    "\n",
    "x, counts = np.unique(rand_ints, return_counts=True)\n",
    "\n",
    "x, counts"
   ]
  },
  {
   "cell_type": "code",
   "execution_count": 61,
   "metadata": {},
   "outputs": [
    {
     "data": {
      "image/png": "[encoded data removed]",
      "text/plain": [
       "<Figure size 640x480 with 1 Axes>"
      ]
     },
     "metadata": {},
     "output_type": "display_data"
    }
   ],
   "source": [
    "import matplotlib.pyplot as plt\n",
    "\n",
    "# Create an empty plot\n",
    "\n",
    "fig, ax = plt.subplots()\n",
    "\n",
    "# Plot a bar chart\n",
    "\n",
    "ax.bar (x, counts);\n",
    "\n",
    "# Upping the number of integers generated above in rand_ints will make the graph seem more uniform\n",
    "\n"
   ]
  }
 ],
 "metadata": {
  "kernelspec": {
   "display_name": "base",
   "language": "python",
   "name": "python3"
  },
  "language_info": {
   "codemirror_mode": {
    "name": "ipython",
    "version": 3
   },
   "file_extension": ".py",
   "mimetype": "text/x-python",
   "name": "python",
   "nbconvert_exporter": "python",
   "pygments_lexer": "ipython3",
   "version": "3.11.4"
  }
 },
 "nbformat": 4,
 "nbformat_minor": 2
}
