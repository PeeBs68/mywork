{
 "cells": [
  {
   "cell_type": "markdown",
   "metadata": {},
   "source": [
    "#Numpy\n",
    "\n",
    "https://numpy.org/doc/stable/reference/random/index.html\n"
   ]
  },
  {
   "cell_type": "code",
   "execution_count": 1,
   "metadata": {},
   "outputs": [],
   "source": [
    "import numpy as np\n",
    "\n",
    "import matplotlib.pyplot as pyplot"
   ]
  },
  {
   "cell_type": "code",
   "execution_count": 2,
   "metadata": {},
   "outputs": [],
   "source": [
    "# Default RNG = Random Number Generator\n",
    "\n",
    "rng = np.random.default_rng() # default range is between 0 and 1"
   ]
  },
  {
   "cell_type": "code",
   "execution_count": 3,
   "metadata": {},
   "outputs": [
    {
     "data": {
      "text/plain": [
       "array([0.40795409, 0.20275422, 0.24803376, 0.68570814, 0.9664297 ,\n",
       "       0.83898613, 0.63245861])"
      ]
     },
     "execution_count": 3,
     "metadata": {},
     "output_type": "execute_result"
    }
   ],
   "source": [
    "# Return random floats in the half open interval [0.0, 1.0) - different brackets\n",
    "\n",
    "# A half-open interval includes only one of its endpoints, and is denoted by mixing \n",
    "# the notations for open and closed intervals. For example, (0,1] means greater than 0 and \n",
    "# less than or equal to 1, while [0,1) means greater than or equal to 0 and less than 1\n",
    "\n",
    "\n",
    "rng.random(7)"
   ]
  },
  {
   "cell_type": "code",
   "execution_count": 4,
   "metadata": {},
   "outputs": [
    {
     "data": {
      "text/plain": [
       "array([ 0.63890575,  1.6164025 , -1.24142282,  1.29271142,  0.01961803,\n",
       "       -1.515336  , -0.2361985 ,  1.53900177,  0.12942486,  1.68590836])"
      ]
     },
     "execution_count": 4,
     "metadata": {},
     "output_type": "execute_result"
    }
   ],
   "source": [
    "# Generate Numbers on a standard normal distribution\n",
    "# The mean = 0.0, stdev = 1.0\n",
    "# i.e. Bell curve\n",
    "# the numbers generated should be on average centered on 0.0\n",
    "# More than 99% of the numbers generated should be between (in the interval) -3.0 and 3.0\n",
    "\n",
    "rng.standard_normal(10)"
   ]
  },
  {
   "cell_type": "code",
   "execution_count": 5,
   "metadata": {},
   "outputs": [
    {
     "data": {
      "text/plain": [
       "array([8, 6, 8, 0, 5])"
      ]
     },
     "execution_count": 5,
     "metadata": {},
     "output_type": "execute_result"
    }
   ],
   "source": [
    "# Generates random integers between 0 (included) and 10 (excluded)\n",
    "\n",
    "rng.integers(low=0, high=10, size=5)"
   ]
  },
  {
   "cell_type": "code",
   "execution_count": null,
   "metadata": {},
   "outputs": [],
   "source": []
  }
 ],
 "metadata": {
  "kernelspec": {
   "display_name": "base",
   "language": "python",
   "name": "python3"
  },
  "language_info": {
   "codemirror_mode": {
    "name": "ipython",
    "version": 3
   },
   "file_extension": ".py",
   "mimetype": "text/x-python",
   "name": "python",
   "nbconvert_exporter": "python",
   "pygments_lexer": "ipython3",
   "version": "3.11.4"
  }
 },
 "nbformat": 4,
 "nbformat_minor": 2
}
